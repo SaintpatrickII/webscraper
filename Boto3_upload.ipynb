{
 "cells": [
  {
   "cell_type": "markdown",
   "id": "de359693",
   "metadata": {},
   "source": []
  },
  {
   "cell_type": "code",
   "execution_count": 13,
   "id": "b46f03aa-2260-40e2-88a4-e2db1a759fd6",
   "metadata": {},
   "outputs": [],
   "source": [
    "import boto3\n",
    "import glob\n",
    "from tqdm import tqdm\n",
    "import os\n",
    "import pandas as pd\n",
    "s3 = boto3.client('s3')\n",
    "bucket = 'patrickcryptobucketfinal'\n",
    "images = '/Users/paddy/Desktop/AiCore/Scraper_Project/Coin_Images'\n",
    "coin_data = '/Users/paddy/Desktop/AiCore/Scraper_Project/coins.json'\n",
    "coins = '/Users/paddy/Desktop/AiCore/Scraper_Project/coins.json'\n"
   ]
  },
  {
   "cell_type": "code",
   "execution_count": 16,
   "id": "c3290bbc",
   "metadata": {},
   "outputs": [],
   "source": [
    "def upload_to_s3():\n",
    "    with open('/Users/paddy/Desktop/AiCore/Scraper_Project/coins.json', 'rb') as f:\n",
    "        s3.upload_fileobj(f, 'patrickcryptobucketfinal', 'coin_data.json')\n",
    "\n",
    "upload_to_s3()\n",
    "\n"
   ]
  },
  {
   "cell_type": "code",
   "execution_count": 22,
   "id": "a774748e",
   "metadata": {},
   "outputs": [],
   "source": [
    "def upload_images_to_s3():\n",
    "    images = '/Users/paddy/Desktop/AiCore/Scraper_Project/Coin_Images'\n",
    "    dir_list = os.listdir(images)\n",
    "    print(dir_list)\n",
    "    for i in tqdm(dir_list):\n",
    "        s3.upload_fileobj(f'{images}/{i}', 'patrickcryptobucketfinal', 'Coin_Images')"
   ]
  },
  {
   "cell_type": "code",
   "execution_count": 12,
   "id": "6426853c",
   "metadata": {},
   "outputs": [
    {
     "data": {
      "text/plain": [
       "831"
      ]
     },
     "execution_count": 12,
     "metadata": {},
     "output_type": "execute_result"
    }
   ],
   "source": [
    "from sqlalchemy import create_engine\n",
    "df = pd.read_json(coins)\n",
    "DATABASE_TYPE = 'postgresql'\n",
    "DBAPI = 'psycopg2'\n",
    "ENDPOINT = 'patrickcryptodbfinal.cycquey1wjft.us-east-1.rds.amazonaws.com' # Change it for your AWS endpoint\n",
    "USER = 'postgres'\n",
    "PASSWORD = 'postgres'\n",
    "PORT = 5432\n",
    "DATABASE = 'postgres'\n",
    "engine = create_engine(f\"{DATABASE_TYPE}+{DBAPI}://{USER}:{PASSWORD}@{ENDPOINT}:{PORT}/{DATABASE}\")\n",
    "engine.connect()\n",
    "\n",
    "df.to_sql('coin_dataset_sql', engine, if_exists='replace')"
   ]
  }
 ],
 "metadata": {
  "kernelspec": {
   "display_name": "Python 3 (ipykernel)",
   "language": "python",
   "name": "python3"
  },
  "language_info": {
   "codemirror_mode": {
    "name": "ipython",
    "version": 3
   },
   "file_extension": ".py",
   "mimetype": "text/x-python",
   "name": "python",
   "nbconvert_exporter": "python",
   "pygments_lexer": "ipython3",
   "version": "3.8.8"
  }
 },
 "nbformat": 4,
 "nbformat_minor": 5
}

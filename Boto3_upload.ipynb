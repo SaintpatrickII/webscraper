{
 "cells": [
  {
   "cell_type": "code",
   "execution_count": 9,
   "id": "b46f03aa-2260-40e2-88a4-e2db1a759fd6",
   "metadata": {},
   "outputs": [],
   "source": [
    "import boto3\n",
    "# from time import sleep\n",
    "# from tqdm import tqdm\n",
    "# import os\n",
    "import pandas as pd\n",
    "s3 = boto3.client('s3')\n",
    "bucket = 'patrickcryptobucketfinal'\n",
    "images = '/Users/paddy/Desktop/AiCore/Scraper_Project/Coin_Images'\n",
    "coin_data = '/Users/paddy/Desktop/AiCore/Scraper_Project/coins.json'\n",
    "coins = '/Users/paddy/Desktop/AiCore/Scraper_Project/coins.json'\n",
    "coins_images = '/Users/paddy/Desktop/AiCore/Scraper_Project/coins_images.json'\n"
   ]
  },
  {
   "cell_type": "code",
   "execution_count": 10,
   "id": "c3290bbc",
   "metadata": {},
   "outputs": [],
   "source": [
    "def upload_to_s3():\n",
    "    with open('/Users/paddy/Desktop/AiCore/Scraper_Project/coins.json', 'rb') as f:\n",
    "        s3.upload_fileobj(f, 'patrickcryptobucketfinal', 'coin_data.json')\n",
    "\n",
    "upload_to_s3()\n",
    "\n",
    "def upload_images_to_s3():\n",
    "    with open('/Users/paddy/Desktop/AiCore/Scraper_Project/coins_images.json', 'rb') as f:\n",
    "        s3.upload_fileobj(f, 'patrickcryptobucketfinal', 'coin_images_data.json')\n",
    "\n",
    "upload_images_to_s3()"
   ]
  },
  {
   "cell_type": "code",
   "execution_count": 11,
   "id": "a774748e",
   "metadata": {},
   "outputs": [],
   "source": [
    "# def upload_images_to_s3():\n",
    "#     images = '/Users/paddy/Desktop/AiCore/Scraper_Project/Coin_Images'\n",
    "#     dir_list = os.listdir(images)\n",
    "#     # dir_dir = os.getcwd()\n",
    "#     # dir_list_fixed = os.chdir('/Users/paddy/Desktop/AiCore/Scraper_Project/Coin_Images')\n",
    "#     #print(dir_dir)\n",
    "#     print(dir_list)\n",
    "#     for i in tqdm(dir_list):\n",
    "#         # with open(f'{images}/{i}', 'rb') as fb:\n",
    "#         # change f'i to fb and upload_file to upload_fileobj\n",
    "#         # try:\n",
    "#         #     s3.upload_file(f'{i}', 'patrickcryptobucketfinal', f'Coin_Images_test/{i}')\n",
    "#         #     sleep(3)\n",
    "#         # except OSError:\n",
    "#         #         continue\n",
    "\n",
    "#         with open(f'{images}/{i}', 'rb') as fb:\n",
    "#             try:\n",
    "#                 s3.upload_fileobj(fb, 'patrickcryptobucketfinal', f'Coin_Images_test/{i}')\n",
    "#                 sleep(3)\n",
    "#             except OSError:\n",
    "#                     continue\n",
    "\n",
    "# upload_images_to_s3()"
   ]
  },
  {
   "cell_type": "code",
   "execution_count": 15,
   "id": "6426853c",
   "metadata": {},
   "outputs": [
    {
     "data": {
      "text/plain": [
       "985"
      ]
     },
     "execution_count": 15,
     "metadata": {},
     "output_type": "execute_result"
    }
   ],
   "source": [
    "from sqlalchemy import create_engine\n",
    "df = pd.read_json(coins)\n",
    "DATABASE_TYPE = 'postgresql'\n",
    "DBAPI = 'psycopg2'\n",
    "ENDPOINT = 'patrickcryptodbfinal.cycquey1wjft.us-east-1.rds.amazonaws.com' # Change it for your AWS endpoint\n",
    "USER = 'postgres'\n",
    "PASSWORD = 'postgres'\n",
    "PORT = 5432\n",
    "DATABASE = 'postgres'\n",
    "engine = create_engine(f\"{DATABASE_TYPE}+{DBAPI}://{USER}:{PASSWORD}@{ENDPOINT}:{PORT}/{DATABASE}\")\n",
    "engine.connect()\n",
    "\n",
    "df.to_sql('coin_data', engine, if_exists='replace')"
   ]
  },
  {
   "cell_type": "code",
   "execution_count": 17,
   "id": "66a17372",
   "metadata": {},
   "outputs": [
    {
     "data": {
      "text/plain": [
       "984"
      ]
     },
     "execution_count": 17,
     "metadata": {},
     "output_type": "execute_result"
    }
   ],
   "source": [
    "from sqlalchemy import create_engine\n",
    "df_image = pd.read_json(coins_images)\n",
    "DATABASE_TYPE = 'postgresql'\n",
    "DBAPI = 'psycopg2'\n",
    "ENDPOINT = 'patrickcryptodbfinal.cycquey1wjft.us-east-1.rds.amazonaws.com' # Change it for your AWS endpoint\n",
    "USER = 'postgres'\n",
    "PASSWORD = 'postgres'\n",
    "PORT = 5432\n",
    "DATABASE = 'postgres'\n",
    "engine = create_engine(f\"{DATABASE_TYPE}+{DBAPI}://{USER}:{PASSWORD}@{ENDPOINT}:{PORT}/{DATABASE}\")\n",
    "engine.connect()\n",
    "\n",
    "df_image.to_sql('coin_images', engine, if_exists='replace')\n",
    "\n",
    "# \"SELECT coin_data.uuid, coin_data.\"Name\", coin_data.\"Symbol\", coin_data.\"Price\", coin_data.\"Volume\", coin_data.\"Market_cap\", coin_data.\"Circulating_Supply\", coin_images.\"Image\"\n",
    "# from coin_data\n",
    "# INNER JOIN coin_images ON coin_data.\"Name\"=coin_images.\"Name\";\""
   ]
  }
 ],
 "metadata": {
  "kernelspec": {
   "display_name": "Python 3 (ipykernel)",
   "language": "python",
   "name": "python3"
  },
  "language_info": {
   "codemirror_mode": {
    "name": "ipython",
    "version": 3
   },
   "file_extension": ".py",
   "mimetype": "text/x-python",
   "name": "python",
   "nbconvert_exporter": "python",
   "pygments_lexer": "ipython3",
   "version": "3.8.8"
  }
 },
 "nbformat": 4,
 "nbformat_minor": 5
}
